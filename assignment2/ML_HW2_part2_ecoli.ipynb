{
 "cells": [
  {
   "cell_type": "code",
   "execution_count": 7,
   "metadata": {},
   "outputs": [],
   "source": [
    "import numpy as np\n",
    "import pandas as pd\n",
    "import mlrose_hiive as mlrh\n",
    "import mlrose \n",
    "import matplotlib.pyplot as plt\n",
    "my_random_state = 318\n",
    "import time\n",
    "import random\n",
    "\n",
    "from sklearn.model_selection import train_test_split\n",
    "from sklearn.preprocessing import MinMaxScaler, OneHotEncoder, LabelEncoder\n",
    "from sklearn.metrics import accuracy_score,plot_confusion_matrix\n",
    "# from sklearn.datasets import load_iris\n",
    "algorithms = ['GD','RHC', 'SA', 'GA']\n"
   ]
  },
  {
   "cell_type": "code",
   "execution_count": 8,
   "metadata": {},
   "outputs": [],
   "source": [
    "###### E-coli \n",
    "### http://archive.ics.uci.edu/ml/datasets/Ecoli\n",
    "# data = pd.read_csv('datafiles/ecoli.csv')))  # very unbalanced\n",
    "# class_names = np.array(['cp', 'im', 'imL', 'imS', 'imU','om','omL','pp'])\n",
    "data = pd.read_csv('datafiles/ecoli-balance.csv') # balanced: merged sub-species of E-coli\n",
    "class_names = np.array(['cp', 'im', 'om','pp'])\n",
    "y_data = data.Y\n",
    "x_data = data.loc[:,'X1':'X7']\n"
   ]
  },
  {
   "cell_type": "code",
   "execution_count": 9,
   "metadata": {},
   "outputs": [
    {
     "data": {
      "text/plain": [
       "(336, 7)"
      ]
     },
     "execution_count": 9,
     "metadata": {},
     "output_type": "execute_result"
    }
   ],
   "source": [
    "x_data.shape"
   ]
  },
  {
   "cell_type": "code",
   "execution_count": 10,
   "metadata": {},
   "outputs": [
    {
     "data": {
      "text/plain": [
       "(336, 4)"
      ]
     },
     "execution_count": 10,
     "metadata": {},
     "output_type": "execute_result"
    }
   ],
   "source": [
    "\n",
    "one_hot = OneHotEncoder()\n",
    "\n",
    "y_data_hot = one_hot.fit_transform(y_data.values.reshape(-1, 1)).todense()\n",
    "# y_test_hot = one_hot.transform(y_test.reshape(-1, 1)).todense()\n",
    "y_data_hot.shape"
   ]
  },
  {
   "cell_type": "code",
   "execution_count": 11,
   "metadata": {},
   "outputs": [
    {
     "data": {
      "text/plain": [
       "(336,)"
      ]
     },
     "execution_count": 11,
     "metadata": {},
     "output_type": "execute_result"
    }
   ],
   "source": [
    "le = LabelEncoder()\n",
    "le.fit(y_data.values.tolist())\n",
    "y_data_le = le.transform(y_data)\n",
    "y_data_le.shape"
   ]
  },
  {
   "cell_type": "code",
   "execution_count": 12,
   "metadata": {},
   "outputs": [
    {
     "name": "stdout",
     "output_type": "stream",
     "text": [
      "(235, 7) (101, 7) (235, 4) (101, 4)\n"
     ]
    }
   ],
   "source": [
    "x_train, x_test, y_train, y_test = train_test_split(x_data, y_data_hot, train_size=0.7, random_state=my_random_state, shuffle=True)\n",
    "print(x_train.shape, x_test.shape, y_train.shape, y_test.shape)"
   ]
  },
  {
   "cell_type": "code",
   "execution_count": null,
   "metadata": {},
   "outputs": [],
   "source": []
  },
  {
   "cell_type": "code",
   "execution_count": 123,
   "metadata": {},
   "outputs": [],
   "source": [
    "train_accuracies = np.zeros(4)\n",
    "test_accuracies = np.zeros(4)\n",
    "optim_time = np.zeros(4)\n",
    "train_time = np.zeros(4)\n",
    "test_time = np.zeros(4)"
   ]
  },
  {
   "cell_type": "markdown",
   "metadata": {},
   "source": [
    "# 1. gradient_descent"
   ]
  },
  {
   "cell_type": "code",
   "execution_count": 127,
   "metadata": {},
   "outputs": [
    {
     "name": "stdout",
     "output_type": "stream",
     "text": [
      "optimization time 7.360000017797574e-05 seconds\n",
      "\n",
      "training time 0.30918449999990116 seconds\n",
      "\n",
      "Value of loss function for fitted weights when fit is performed\n",
      " 0.25105686815160916\n"
     ]
    },
    {
     "data": {
      "text/plain": [
       "(1040,)"
      ]
     },
     "execution_count": 127,
     "metadata": {},
     "output_type": "execute_result"
    }
   ],
   "source": [
    "# Initialize neural network object and fit object\n",
    "tic = time.perf_counter() \n",
    "nn = mlrose.NeuralNetwork(hidden_nodes = [20,20,20], # activation = 'relu', \n",
    "                                 algorithm = 'gradient_descent', # max_iters = 1000, \n",
    "                                 learning_rate = 0.001, # bias = True, is_classifier = True, \n",
    "                                 early_stopping = True, clip_max = 5, max_attempts = 100, \n",
    "                                 random_state = my_random_state, curve = True)\n",
    "toc = time.perf_counter() \n",
    "optim_time[0] = toc-tic\n",
    "print(f\"optimization time {toc - tic} seconds\")\n",
    "print()\n",
    "\n",
    "\n",
    "tic = time.perf_counter() \n",
    "nn.fit(x_train, y_train)\n",
    "toc = time.perf_counter() \n",
    "train_time[0] = toc-tic\n",
    "print(f\"training time {toc - tic} seconds\")\n",
    "print()\n",
    "\n",
    "print(\"Value of loss function for fitted weights when fit is performed\\n\",nn.loss)\n",
    "# print(\"fitted_weights\", nn_gd.fitted_weights)\n",
    "# nn.fitted_weights\n",
    "nn.fitted_weights.shape\n",
    "# learning_rate = 0.1\n",
    "# Value of loss function for fitted weights when fit is performed 1.3862943611198906\n",
    "# array([-5.        , -0.31964703, -5.        , ...,  5.        ,\n",
    "#        -5.        , -0.11450284])\n",
    "\n",
    "# learning_rate = 0.001\n",
    "# Value of loss function for fitted weights when fit is performed 0.25105686815160916\n",
    "# array([ 0.09052286, -0.31964703, -0.67567475, ...,  1.29516855,\n",
    "#         0.22538836,  0.15522131])"
   ]
  },
  {
   "cell_type": "code",
   "execution_count": 110,
   "metadata": {},
   "outputs": [
    {
     "data": {
      "text/plain": [
       "(24,)"
      ]
     },
     "execution_count": 110,
     "metadata": {},
     "output_type": "execute_result"
    }
   ],
   "source": []
  },
  {
   "cell_type": "code",
   "execution_count": 128,
   "metadata": {},
   "outputs": [
    {
     "name": "stdout",
     "output_type": "stream",
     "text": [
      "0.9319148936170213\n",
      "testing time 0.0005360000004657195 seconds\n",
      "0.9306930693069307\n"
     ]
    }
   ],
   "source": [
    "# Predict labels for train set and assess accuracy\n",
    "y_train_pred = nn.predict(x_train)\n",
    "y_train_accuracy = accuracy_score(y_train, y_train_pred)\n",
    "print(y_train_accuracy)\n",
    "train_accuracies[0] = y_train_accuracy\n",
    "# 0.9319148936170213 @ learning_rate = 0.001\n",
    "# 0.4 @ learning rate = 0.1\n",
    "\n",
    "\n",
    "# Predict labels for test set and assess accuracy\n",
    "\n",
    "tic = time.perf_counter() \n",
    "y_test_pred = nn.predict(x_test)\n",
    "toc = time.perf_counter() \n",
    "test_time[0] = toc-tic\n",
    "print(f\"testing time {toc - tic} seconds\")\n",
    "\n",
    "y_test_accuracy = accuracy_score(y_test, y_test_pred)\n",
    "print(y_test_accuracy)\n",
    "test_accuracies[0] = y_test_accuracy\n",
    "# 0.9306930693069307 @ learning_rate = 0.001\n",
    "# 0.48514851485148514 @ learning_rate = 0.1\n",
    "\n",
    "# nn_gd.predicted_probs\n",
    "\n",
    "\n",
    "# plot_confusion_matrix(nn, x_test, y_test,normalize='true',cmap=plt.cm.Blues)\n",
    "# plt.savefig('NN/NN_GD_confusion_matrix_normalized.png') \n",
    "# plt.show()\n",
    "\n",
    "nn_gd = nn ## save"
   ]
  },
  {
   "cell_type": "code",
   "execution_count": null,
   "metadata": {},
   "outputs": [],
   "source": []
  },
  {
   "cell_type": "code",
   "execution_count": null,
   "metadata": {},
   "outputs": [],
   "source": []
  },
  {
   "cell_type": "code",
   "execution_count": null,
   "metadata": {},
   "outputs": [],
   "source": []
  },
  {
   "cell_type": "markdown",
   "metadata": {},
   "source": [
    "# 2. random_hill_climb"
   ]
  },
  {
   "cell_type": "code",
   "execution_count": 124,
   "metadata": {},
   "outputs": [
    {
     "name": "stdout",
     "output_type": "stream",
     "text": [
      "optimization time 7.589999950141646e-05 seconds\n",
      "\n",
      "training time 26.517017600000145 seconds\n",
      "\n",
      "Value of loss function for fitted weights when fit is performed\n",
      " 0.22027227910789357\n"
     ]
    },
    {
     "data": {
      "text/plain": [
       "(1040,)"
      ]
     },
     "execution_count": 124,
     "metadata": {},
     "output_type": "execute_result"
    }
   ],
   "source": [
    "tic = time.perf_counter() \n",
    "nn = mlrose.NeuralNetwork(hidden_nodes = [20,20,20], # activation = 'relu', \n",
    "                                 algorithm = 'random_hill_climb', max_iters = 5000, \n",
    "                                 restarts = 3, #learning_rate = 0.001, # bias = True, is_classifier = True, \n",
    "                                 early_stopping = True, clip_max = 5, max_attempts = 100, \n",
    "                                 random_state = my_random_state, curve = True)\n",
    "toc = time.perf_counter() \n",
    "optim_time[1] = toc-tic\n",
    "print(f\"optimization time {toc - tic} seconds\")\n",
    "print()\n",
    "\n",
    "\n",
    "tic = time.perf_counter() \n",
    "nn.fit(x_train, y_train)\n",
    "toc = time.perf_counter() \n",
    "train_time[1] = toc-tic\n",
    "print(f\"training time {toc - tic} seconds\")\n",
    "print()\n",
    "\n",
    "print(\"Value of loss function for fitted weights when fit is performed\\n\",nn.loss)\n",
    "# print(\"fitted_weights\", nn_gd.fitted_weights)\n",
    "# nn.fitted_weights\n",
    "nn.fitted_weights.shape"
   ]
  },
  {
   "cell_type": "code",
   "execution_count": null,
   "metadata": {},
   "outputs": [],
   "source": []
  },
  {
   "cell_type": "code",
   "execution_count": 126,
   "metadata": {},
   "outputs": [
    {
     "name": "stdout",
     "output_type": "stream",
     "text": [
      "0.9574468085106383\n",
      "testing time 0.0003569000000425149 seconds\n",
      "0.9207920792079208\n"
     ]
    }
   ],
   "source": [
    "# Predict labels for train set and assess accuracy\n",
    "y_train_pred = nn.predict(x_train)\n",
    "y_train_accuracy = accuracy_score(y_train, y_train_pred)\n",
    "print(y_train_accuracy)\n",
    "train_accuracies[1] = y_train_accuracy\n",
    "\n",
    "# Predict labels for test set and assess accuracy\n",
    "\n",
    "tic = time.perf_counter() \n",
    "y_test_pred = nn.predict(x_test)\n",
    "toc = time.perf_counter() \n",
    "test_time[1] = toc-tic\n",
    "print(f\"testing time {toc - tic} seconds\")\n",
    "\n",
    "y_test_accuracy = accuracy_score(y_test, y_test_pred)\n",
    "print(y_test_accuracy)\n",
    "test_accuracies[1] = y_test_accuracy\n",
    "\n",
    "# nn_gd.predicted_probs\n",
    "\n",
    "\n",
    "nn_rhc = nn ## save"
   ]
  },
  {
   "cell_type": "code",
   "execution_count": null,
   "metadata": {},
   "outputs": [],
   "source": []
  },
  {
   "cell_type": "code",
   "execution_count": null,
   "metadata": {},
   "outputs": [],
   "source": []
  },
  {
   "cell_type": "code",
   "execution_count": 130,
   "metadata": {},
   "outputs": [
    {
     "data": {
      "text/plain": [
       "(array([0.93191489, 0.95744681, 0.        , 0.        ]),\n",
       " array([0.93069307, 0.92079208, 0.        , 0.        ]),\n",
       " array([7.36000002e-05, 7.58999995e-05, 0.00000000e+00, 0.00000000e+00]),\n",
       " array([ 0.3091845, 26.5170176,  0.       ,  0.       ]),\n",
       " array([0.000536 , 0.0003569, 0.       , 0.       ]))"
      ]
     },
     "execution_count": 130,
     "metadata": {},
     "output_type": "execute_result"
    }
   ],
   "source": [
    "train_accuracies,test_accuracies, optim_time, train_time, test_time"
   ]
  },
  {
   "cell_type": "markdown",
   "metadata": {},
   "source": [
    "# simulated_annealing"
   ]
  },
  {
   "cell_type": "code",
   "execution_count": null,
   "metadata": {},
   "outputs": [],
   "source": []
  },
  {
   "cell_type": "code",
   "execution_count": 136,
   "metadata": {},
   "outputs": [
    {
     "name": "stdout",
     "output_type": "stream",
     "text": [
      "optimization time 8.160000015777769e-05 seconds\n",
      "\n",
      "training time 21.46122480000031 seconds\n",
      "\n",
      "Value of loss function for fitted weights when fit is performed\n",
      " 0.203311450213503\n"
     ]
    },
    {
     "data": {
      "text/plain": [
       "(1040,)"
      ]
     },
     "execution_count": 136,
     "metadata": {},
     "output_type": "execute_result"
    }
   ],
   "source": [
    "tic = time.perf_counter() \n",
    "nn = mlrose.NeuralNetwork(hidden_nodes = [20,20,20], # activation = 'relu', \n",
    "                                 algorithm = 'simulated_annealing', max_iters = 10000, \n",
    "                                 #learning_rate = 0.001, # bias = True, is_classifier = True, \n",
    "                                 early_stopping = True, clip_max = 5, max_attempts = 100, \n",
    "                                 random_state = my_random_state, curve = True)\n",
    "toc = time.perf_counter() \n",
    "optim_time[2] = toc-tic\n",
    "print(f\"optimization time {toc - tic} seconds\")\n",
    "print()\n",
    "\n",
    "\n",
    "tic = time.perf_counter() \n",
    "nn.fit(x_train, y_train)\n",
    "toc = time.perf_counter() \n",
    "train_time[2] = toc-tic\n",
    "print(f\"training time {toc - tic} seconds\")\n",
    "print()\n",
    "\n",
    "print(\"Value of loss function for fitted weights when fit is performed\\n\",nn.loss)\n",
    "# print(\"fitted_weights\", nn_gd.fitted_weights)\n",
    "# nn.fitted_weights\n",
    "nn.fitted_weights.shape"
   ]
  },
  {
   "cell_type": "code",
   "execution_count": 137,
   "metadata": {},
   "outputs": [
    {
     "name": "stdout",
     "output_type": "stream",
     "text": [
      "0.9404255319148936\n",
      "testing time 0.0007053999997879146 seconds\n",
      "0.9504950495049505\n"
     ]
    }
   ],
   "source": [
    "# Predict labels for train set and assess accuracy\n",
    "y_train_pred = nn.predict(x_train)\n",
    "y_train_accuracy = accuracy_score(y_train, y_train_pred)\n",
    "print(y_train_accuracy)\n",
    "train_accuracies[2] = y_train_accuracy\n",
    "\n",
    "# Predict labels for test set and assess accuracy\n",
    "\n",
    "tic = time.perf_counter() \n",
    "y_test_pred = nn.predict(x_test)\n",
    "toc = time.perf_counter() \n",
    "test_time[2] = toc-tic\n",
    "print(f\"testing time {toc - tic} seconds\")\n",
    "\n",
    "y_test_accuracy = accuracy_score(y_test, y_test_pred)\n",
    "print(y_test_accuracy)\n",
    "test_accuracies[2] = y_test_accuracy\n",
    "\n",
    "# nn_gd.predicted_probs\n",
    "\n",
    "\n",
    "nn_sa = nn ## save"
   ]
  },
  {
   "cell_type": "code",
   "execution_count": null,
   "metadata": {},
   "outputs": [],
   "source": []
  },
  {
   "cell_type": "code",
   "execution_count": 138,
   "metadata": {},
   "outputs": [
    {
     "data": {
      "text/plain": [
       "(array([0.93191489, 0.95744681, 0.94042553, 0.        ]),\n",
       " array([0.93069307, 0.92079208, 0.95049505, 0.        ]),\n",
       " array([7.36000002e-05, 7.58999995e-05, 8.16000002e-05, 0.00000000e+00]),\n",
       " array([ 0.3091845, 26.5170176, 21.4612248,  0.       ]),\n",
       " array([0.000536 , 0.0003569, 0.0007054, 0.       ]))"
      ]
     },
     "execution_count": 138,
     "metadata": {},
     "output_type": "execute_result"
    }
   ],
   "source": [
    "train_accuracies,test_accuracies, optim_time, train_time, test_time\n",
    "# (array([0.93191489, 0.95744681, 0.88510638, 0.        ]),\n",
    "#  array([0.93069307, 0.92079208, 0.91089109, 0.        ]),\n",
    "#  array([7.36000002e-05, 7.58999995e-05, 8.43999997e-05, 0.00000000e+00]),\n",
    "#  array([ 0.3091845, 26.5170176,  9.956555 ,  0.       ]),\n",
    "#  array([0.000536 , 0.0003569, 0.0004006, 0.       ]))"
   ]
  },
  {
   "cell_type": "markdown",
   "metadata": {},
   "source": [
    "## SA: try different schedules"
   ]
  },
  {
   "cell_type": "code",
   "execution_count": null,
   "metadata": {},
   "outputs": [],
   "source": []
  },
  {
   "cell_type": "code",
   "execution_count": 13,
   "metadata": {},
   "outputs": [
    {
     "name": "stdout",
     "output_type": "stream",
     "text": [
      "training time 25.63332140000057 seconds\n",
      "0.9404255319148936\n",
      "0.9504950495049505\n",
      "training time 27.70202259999951 seconds\n",
      "0.6680851063829787\n",
      "0.7326732673267327\n",
      "training time 26.090185699999893 seconds\n",
      "0.9361702127659575\n",
      "0.9207920792079208\n"
     ]
    }
   ],
   "source": [
    "# SA\n",
    "schedules = [mlrose.GeomDecay(), mlrose.ArithDecay(), mlrose.ExpDecay()]\n",
    "train_accu_sa = np.zeros(3)\n",
    "train_time_sa = np.zeros(3)\n",
    "test_accu_sa = np.zeros(3)\n",
    "for i in range(len(schedules)):\n",
    "    nn = mlrose.NeuralNetwork(hidden_nodes = [20,20,20], # activation = 'relu', \n",
    "                                 algorithm = 'simulated_annealing', max_iters = 10000, \n",
    "                              schedule = schedules[i],\n",
    "                                 #learning_rate = 0.001, # bias = True, is_classifier = True, \n",
    "                                 early_stopping = True, clip_max = 5, max_attempts = 100, \n",
    "                                 random_state = my_random_state, curve = True)\n",
    "    \n",
    "    tic = time.perf_counter() \n",
    "    nn.fit(x_train, y_train)\n",
    "    toc = time.perf_counter() \n",
    "    train_time_sa[i] = toc - tic\n",
    "    print(f\"training time {toc - tic} seconds\")\n",
    "    \n",
    "    y_train_pred = nn.predict(x_train)\n",
    "    y_train_accuracy = accuracy_score(y_train, y_train_pred)\n",
    "    print(y_train_accuracy)\n",
    "    train_accu_sa[i] = y_train_accuracy\n",
    "    \n",
    "    y_test_pred = nn.predict(x_test)\n",
    "    y_test_accuracy = accuracy_score(y_test, y_test_pred)\n",
    "    print(y_test_accuracy)\n",
    "    test_accu_sa[i] = y_test_accuracy"
   ]
  },
  {
   "cell_type": "code",
   "execution_count": 15,
   "metadata": {},
   "outputs": [
    {
     "data": {
      "image/png": "[encoded data removed]",
      "text/plain": [
       "<Figure size 432x288 with 1 Axes>"
      ]
     },
     "metadata": {
      "needs_background": "light"
     },
     "output_type": "display_data"
    }
   ],
   "source": [
    "###  accuracy\n",
    "\n",
    "plt.figure()\n",
    "plt.plot([1,2,3], train_accu_sa, label = 'train')\n",
    "plt.plot([1,2,3], test_accu_sa, label = 'test')\n",
    "\n",
    "schedulesname = ['GeomDecay', 'ArithDecay', 'ExpDecay']\n",
    "plt.xticks([1,2,3],schedulesname)\n",
    "\n",
    "plt.title('NN - SA schedules - accuracy')\n",
    "# plt.xlabel('max_iter')\n",
    "plt.ylabel(\"accuracy\")\n",
    "plt.legend(loc=\"best\")\n",
    "plt.grid()\n",
    "plt.savefig('NN/SA_schedule_accuracy.png')\n",
    "plt.show()"
   ]
  },
  {
   "cell_type": "code",
   "execution_count": null,
   "metadata": {},
   "outputs": [],
   "source": []
  },
  {
   "cell_type": "code",
   "execution_count": null,
   "metadata": {},
   "outputs": [],
   "source": []
  },
  {
   "cell_type": "code",
   "execution_count": null,
   "metadata": {},
   "outputs": [],
   "source": []
  },
  {
   "cell_type": "markdown",
   "metadata": {},
   "source": [
    "# genetic_alg"
   ]
  },
  {
   "cell_type": "code",
   "execution_count": 139,
   "metadata": {},
   "outputs": [
    {
     "name": "stdout",
     "output_type": "stream",
     "text": [
      "optimization time 8.239999988290947e-05 seconds\n",
      "\n",
      "training time 44.727613900000506 seconds\n",
      "\n",
      "Value of loss function for fitted weights when fit is performed\n",
      " 9.349764544883065\n"
     ]
    },
    {
     "data": {
      "text/plain": [
       "(1040,)"
      ]
     },
     "execution_count": 139,
     "metadata": {},
     "output_type": "execute_result"
    }
   ],
   "source": [
    "tic = time.perf_counter() \n",
    "nn = mlrose.NeuralNetwork(hidden_nodes = [20,20,20], # activation = 'relu', \n",
    "                                 algorithm = 'genetic_alg', max_iters = 1000, \n",
    "                                 #learning_rate = 0.001, # bias = True, is_classifier = True, \n",
    "                                 early_stopping = True, clip_max = 5, max_attempts = 100, \n",
    "                                 random_state = my_random_state, curve = True)\n",
    "toc = time.perf_counter() \n",
    "optim_time[3] = toc-tic\n",
    "print(f\"optimization time {toc - tic} seconds\")\n",
    "print()\n",
    "\n",
    "\n",
    "tic = time.perf_counter() \n",
    "nn.fit(x_train, y_train)\n",
    "toc = time.perf_counter() \n",
    "train_time[3] = toc-tic\n",
    "print(f\"training time {toc - tic} seconds\")\n",
    "print()\n",
    "\n",
    "print(\"Value of loss function for fitted weights when fit is performed\\n\",nn.loss)\n",
    "# print(\"fitted_weights\", nn_gd.fitted_weights)\n",
    "# nn.fitted_weights\n",
    "nn.fitted_weights.shape"
   ]
  },
  {
   "cell_type": "code",
   "execution_count": 140,
   "metadata": {},
   "outputs": [
    {
     "name": "stdout",
     "output_type": "stream",
     "text": [
      "0.7191489361702128\n",
      "testing time 0.00037739999970654026 seconds\n",
      "0.7425742574257426\n"
     ]
    }
   ],
   "source": [
    "# Predict labels for train set and assess accuracy\n",
    "y_train_pred = nn.predict(x_train)\n",
    "y_train_accuracy = accuracy_score(y_train, y_train_pred)\n",
    "print(y_train_accuracy)\n",
    "train_accuracies[3] = y_train_accuracy\n",
    "\n",
    "# Predict labels for test set and assess accuracy\n",
    "\n",
    "tic = time.perf_counter() \n",
    "y_test_pred = nn.predict(x_test)\n",
    "toc = time.perf_counter() \n",
    "test_time[3] = toc-tic\n",
    "print(f\"testing time {toc - tic} seconds\")\n",
    "\n",
    "y_test_accuracy = accuracy_score(y_test, y_test_pred)\n",
    "print(y_test_accuracy)\n",
    "test_accuracies[3] = y_test_accuracy\n",
    "\n",
    "# nn_gd.predicted_probs\n",
    "\n",
    "\n",
    "nn_ga = nn ## save"
   ]
  },
  {
   "cell_type": "code",
   "execution_count": 141,
   "metadata": {},
   "outputs": [
    {
     "data": {
      "text/plain": [
       "(array([0.93191489, 0.95744681, 0.94042553, 0.71914894]),\n",
       " array([0.93069307, 0.92079208, 0.95049505, 0.74257426]),\n",
       " array([7.36000002e-05, 7.58999995e-05, 8.16000002e-05, 8.23999999e-05]),\n",
       " array([ 0.3091845, 26.5170176, 21.4612248, 44.7276139]),\n",
       " array([0.000536 , 0.0003569, 0.0007054, 0.0003774]))"
      ]
     },
     "execution_count": 141,
     "metadata": {},
     "output_type": "execute_result"
    }
   ],
   "source": [
    "train_accuracies,test_accuracies, optim_time, train_time, test_time"
   ]
  },
  {
   "cell_type": "code",
   "execution_count": null,
   "metadata": {},
   "outputs": [],
   "source": []
  },
  {
   "cell_type": "markdown",
   "metadata": {},
   "source": [
    "## GA: try different population size"
   ]
  },
  {
   "cell_type": "code",
   "execution_count": 17,
   "metadata": {},
   "outputs": [
    {
     "name": "stdout",
     "output_type": "stream",
     "text": [
      "training time 2.041107099999863 seconds\n",
      "0.7063829787234043\n",
      "0.7821782178217822\n",
      "training time 4.06897360000039 seconds\n",
      "0.6595744680851063\n",
      "0.6633663366336634\n",
      "training time 20.167259899999408 seconds\n",
      "0.7148936170212766\n",
      "0.7425742574257426\n",
      "training time 38.33511770000041 seconds\n",
      "0.7787234042553192\n",
      "0.8118811881188119\n",
      "training time 57.75208459999976 seconds\n",
      "0.7191489361702128\n",
      "0.7425742574257426\n"
     ]
    }
   ],
   "source": [
    "# GA\n",
    "populations = [10,20,50,100,200]\n",
    "train_accu_ga = np.zeros(5)\n",
    "train_time_ga = np.zeros(5)\n",
    "test_accu_ga = np.zeros(5)\n",
    "for i in range(len(populations)):\n",
    "    nn = mlrose.NeuralNetwork(hidden_nodes = [20,20,20], # activation = 'relu', \n",
    "                                 algorithm = 'genetic_alg', max_iters = 1000, \n",
    "                              pop_size = populations[i],\n",
    "                                 #learning_rate = 0.001, # bias = True, is_classifier = True, \n",
    "                                 early_stopping = True, clip_max = 5, max_attempts = 100, \n",
    "                                 random_state = my_random_state, curve = True)\n",
    "    \n",
    "    tic = time.perf_counter() \n",
    "    nn.fit(x_train, y_train)\n",
    "    toc = time.perf_counter() \n",
    "    train_time_ga[i] = toc - tic\n",
    "    print(f\"training time {toc - tic} seconds\")\n",
    "    \n",
    "    y_train_pred = nn.predict(x_train)\n",
    "    y_train_accuracy = accuracy_score(y_train, y_train_pred)\n",
    "    print(y_train_accuracy)\n",
    "    train_accu_ga[i] = y_train_accuracy\n",
    "    \n",
    "    y_test_pred = nn.predict(x_test)\n",
    "    y_test_accuracy = accuracy_score(y_test, y_test_pred)\n",
    "    print(y_test_accuracy)\n",
    "    test_accu_ga[i] = y_test_accuracy"
   ]
  },
  {
   "cell_type": "code",
   "execution_count": 18,
   "metadata": {},
   "outputs": [
    {
     "data": {
      "image/png": "[encoded data removed]",
      "text/plain": [
       "<Figure size 432x288 with 1 Axes>"
      ]
     },
     "metadata": {
      "needs_background": "light"
     },
     "output_type": "display_data"
    }
   ],
   "source": [
    "###  accuracy\n",
    "\n",
    "plt.figure()\n",
    "plt.plot(populations, train_accu_ga, label = 'train')\n",
    "plt.plot(populations, test_accu_ga, label = 'test')\n",
    "\n",
    "\n",
    "plt.title('NN - GA population size - accuracy')\n",
    "plt.xlabel('pop_size')\n",
    "plt.ylabel(\"accuracy\")\n",
    "plt.legend(loc=\"best\")\n",
    "plt.grid()\n",
    "plt.savefig('NN/GA_population_accuracy.png')\n",
    "plt.show()"
   ]
  },
  {
   "cell_type": "code",
   "execution_count": 21,
   "metadata": {},
   "outputs": [
    {
     "data": {
      "image/png": "[encoded data removed]",
      "text/plain": [
       "<Figure size 432x288 with 1 Axes>"
      ]
     },
     "metadata": {
      "needs_background": "light"
     },
     "output_type": "display_data"
    }
   ],
   "source": [
    "###  time\n",
    "\n",
    "plt.figure()\n",
    "plt.plot(populations, train_time_ga,'o-')\n",
    "\n",
    "\n",
    "plt.title('NN - GA population size - train time')\n",
    "plt.xlabel('pop_size')\n",
    "plt.ylabel(\"training time [second]\")\n",
    "plt.grid()\n",
    "plt.savefig('NN/GA_population_traintime.png')\n",
    "plt.show()"
   ]
  },
  {
   "cell_type": "code",
   "execution_count": null,
   "metadata": {},
   "outputs": [],
   "source": []
  },
  {
   "cell_type": "code",
   "execution_count": null,
   "metadata": {},
   "outputs": [],
   "source": []
  },
  {
   "cell_type": "code",
   "execution_count": null,
   "metadata": {},
   "outputs": [],
   "source": []
  },
  {
   "cell_type": "markdown",
   "metadata": {},
   "source": [
    "## GA: try different mutation_prob"
   ]
  },
  {
   "cell_type": "code",
   "execution_count": null,
   "metadata": {},
   "outputs": [],
   "source": []
  },
  {
   "cell_type": "code",
   "execution_count": 22,
   "metadata": {},
   "outputs": [
    {
     "name": "stdout",
     "output_type": "stream",
     "text": [
      "training time 22.574888299999657 seconds\n",
      "0.7191489361702128\n",
      "0.8118811881188119\n",
      "training time 38.26985280000008 seconds\n",
      "0.7787234042553192\n",
      "0.8118811881188119\n",
      "training time 51.3757813000002 seconds\n",
      "0.7446808510638298\n",
      "0.7821782178217822\n",
      "training time 29.79970609999964 seconds\n",
      "0.7319148936170212\n",
      "0.7623762376237624\n",
      "training time 41.02436260000013 seconds\n",
      "0.7659574468085106\n",
      "0.7326732673267327\n"
     ]
    }
   ],
   "source": [
    "# GA\n",
    "mut_probs = [0.05,0.1,0.15,0.2,0.25]\n",
    "train_accu_ga = np.zeros(5)\n",
    "train_time_ga = np.zeros(5)\n",
    "test_accu_ga = np.zeros(5)\n",
    "for i in range(len(populations)):\n",
    "    nn = mlrose.NeuralNetwork(hidden_nodes = [20,20,20], # activation = 'relu', \n",
    "                                 algorithm = 'genetic_alg', max_iters = 1000, \n",
    "                              mutation_prob = mut_probs[i], pop_size = 100,\n",
    "                                 #learning_rate = 0.001, # bias = True, is_classifier = True, \n",
    "                                 early_stopping = True, clip_max = 5, max_attempts = 100, \n",
    "                                 random_state = my_random_state, curve = True)\n",
    "    \n",
    "    tic = time.perf_counter() \n",
    "    nn.fit(x_train, y_train)\n",
    "    toc = time.perf_counter() \n",
    "    train_time_ga[i] = toc - tic\n",
    "    print(f\"training time {toc - tic} seconds\")\n",
    "    \n",
    "    y_train_pred = nn.predict(x_train)\n",
    "    y_train_accuracy = accuracy_score(y_train, y_train_pred)\n",
    "    print(y_train_accuracy)\n",
    "    train_accu_ga[i] = y_train_accuracy\n",
    "    \n",
    "    y_test_pred = nn.predict(x_test)\n",
    "    y_test_accuracy = accuracy_score(y_test, y_test_pred)\n",
    "    print(y_test_accuracy)\n",
    "    test_accu_ga[i] = y_test_accuracy"
   ]
  },
  {
   "cell_type": "code",
   "execution_count": 24,
   "metadata": {},
   "outputs": [
    {
     "data": {
      "image/png": "[encoded data removed]",
      "text/plain": [
       "<Figure size 432x288 with 1 Axes>"
      ]
     },
     "metadata": {
      "needs_background": "light"
     },
     "output_type": "display_data"
    }
   ],
   "source": [
    "###  accuracy\n",
    "\n",
    "plt.figure()\n",
    "plt.plot(mut_probs, train_accu_ga, label = 'train')\n",
    "plt.plot(mut_probs, test_accu_ga, label = 'test')\n",
    "\n",
    "\n",
    "plt.title('NN - GA mutation probability - accuracy')\n",
    "plt.xlabel('mutation_prob')\n",
    "plt.ylabel(\"accuracy\")\n",
    "plt.legend(loc=\"best\")\n",
    "plt.grid()\n",
    "plt.savefig('NN/GA_mutprob_accuracy.png')\n",
    "plt.show()"
   ]
  },
  {
   "cell_type": "code",
   "execution_count": 25,
   "metadata": {},
   "outputs": [
    {
     "name": "stderr",
     "output_type": "stream",
     "text": [
      "No handles with labels found to put in legend.\n"
     ]
    },
    {
     "data": {
      "image/png": "[encoded data removed]",
      "text/plain": [
       "<Figure size 432x288 with 1 Axes>"
      ]
     },
     "metadata": {
      "needs_background": "light"
     },
     "output_type": "display_data"
    }
   ],
   "source": [
    "###  time\n",
    "\n",
    "plt.figure()\n",
    "plt.plot(mut_probs, train_time_ga, 'o-')\n",
    "\n",
    "\n",
    "plt.title('NN - GA mutation probability - training time')\n",
    "plt.xlabel('mutation_prob')\n",
    "plt.ylabel(\"training time [second]\")\n",
    "plt.grid()\n",
    "plt.savefig('NN/GA_mutprob_traintime.png')\n",
    "plt.show()"
   ]
  },
  {
   "cell_type": "code",
   "execution_count": null,
   "metadata": {},
   "outputs": [],
   "source": []
  },
  {
   "cell_type": "code",
   "execution_count": null,
   "metadata": {},
   "outputs": [],
   "source": []
  },
  {
   "cell_type": "markdown",
   "metadata": {},
   "source": [
    "# Accuracy & Time"
   ]
  },
  {
   "cell_type": "code",
   "execution_count": 165,
   "metadata": {},
   "outputs": [
    {
     "data": {
      "image/png": "[encoded data removed]",
      "text/plain": [
       "<Figure size 432x288 with 1 Axes>"
      ]
     },
     "metadata": {
      "needs_background": "light"
     },
     "output_type": "display_data"
    }
   ],
   "source": [
    "#### https://matplotlib.org/3.1.1/gallery/lines_bars_and_markers/barchart.html\n",
    "\n",
    "width = 0.4  # the width of the bars\n",
    "x = np.arange(len(algorithms))\n",
    "\n",
    "fig, ax = plt.subplots()\n",
    "rects1 = ax.bar(x - width/2, train_accuracies, width, label='train')\n",
    "rects2 = ax.bar(x + width/2, test_accuracies, width, label='test')\n",
    "\n",
    "plt.gca().set_ylim(0.6, 1.0)\n",
    "\n",
    "# Add some text for labels, title and custom x-axis tick labels, etc.\n",
    "ax.set_ylabel('Prediction Accuracy')\n",
    "ax.set_title('prediction accuracy on training/testing set')\n",
    "ax.set_xticks(x)\n",
    "ax.set_xticklabels(['GD','RHC','SA','GA'])\n",
    "ax.legend()\n",
    "\n",
    "def autolabel(rects):\n",
    "    \"\"\"Attach a text label above each bar in *rects*, displaying its height.\"\"\"\n",
    "    for rect in rects:\n",
    "        height = rect.get_height()\n",
    "        ax.annotate('{:0.2f}%'.format(height*100),\n",
    "                    xy=(rect.get_x() + rect.get_width() / 2, height),\n",
    "                    xytext=(0, 3),  # 3 points vertical offset\n",
    "                    textcoords=\"offset points\",\n",
    "                    ha='center', va='bottom')\n",
    "\n",
    "\n",
    "autolabel(rects1)\n",
    "autolabel(rects2)\n",
    "\n",
    "fig.tight_layout()\n",
    "plt.savefig('NN/accuracy.png') \n",
    "\n",
    "plt.show()"
   ]
  },
  {
   "cell_type": "code",
   "execution_count": 171,
   "metadata": {},
   "outputs": [
    {
     "data": {
      "image/png": "[encoded data removed]",
      "text/plain": [
       "<Figure size 432x288 with 1 Axes>"
      ]
     },
     "metadata": {
      "needs_background": "light"
     },
     "output_type": "display_data"
    }
   ],
   "source": [
    "fig = plt.figure()\n",
    "ax = fig.add_axes([0,0,1,1])\n",
    "\n",
    "rects = ax.bar(['GD','RHC','SA','GA'],train_time)\n",
    "\n",
    "\n",
    "def autolabel2(rects):\n",
    "    \"\"\"Attach a text label above each bar in *rects*, displaying its height.\"\"\"\n",
    "    for rect in rects:\n",
    "        height = rect.get_height()\n",
    "        ax.annotate('{:0.4f}'.format(height),\n",
    "                    xy=(rect.get_x() + rect.get_width()/2, height),\n",
    "                    xytext=(0, 3),  # 3 points vertical offset\n",
    "                    textcoords=\"offset points\",\n",
    "                    ha='center', va='bottom')\n",
    "autolabel2(rects)\n",
    "\n",
    "# plt.ylim(.1, 2000)\n",
    "plt.title('Training time (logscale)')\n",
    "ax.set_yscale('log')\n",
    "# plt.xlabel('classifiers')\n",
    "plt.ylabel(\"training time [second]\")\n",
    "plt.savefig('NN/training_time.png') \n",
    "plt.show()\n"
   ]
  },
  {
   "cell_type": "code",
   "execution_count": 4,
   "metadata": {},
   "outputs": [
    {
     "data": {
      "image/png": "[encoded data removed]",
      "text/plain": [
       "<Figure size 432x288 with 1 Axes>"
      ]
     },
     "metadata": {
      "needs_background": "light"
     },
     "output_type": "display_data"
    }
   ],
   "source": [
    "## correcting the training time (equal iteration)\n",
    "fig = plt.figure()\n",
    "ax = fig.add_axes([0,0,1,1])\n",
    "\n",
    "rects = ax.bar(['GD','RHC','SA','GA'],[27.1600265,53.0633963,21.1090359,42.5052815 ])\n",
    "\n",
    "\n",
    "def autolabel2(rects):\n",
    "    \"\"\"Attach a text label above each bar in *rects*, displaying its height.\"\"\"\n",
    "    for rect in rects:\n",
    "        height = rect.get_height()\n",
    "        ax.annotate('{:0.4f}'.format(height),\n",
    "                    xy=(rect.get_x() + rect.get_width()/2, height),\n",
    "                    xytext=(0, 3),  # 3 points vertical offset\n",
    "                    textcoords=\"offset points\",\n",
    "                    ha='center', va='bottom')\n",
    "autolabel2(rects)\n",
    "\n",
    "# plt.ylim(.1, 2000)\n",
    "plt.title('Training time ')\n",
    "# ax.set_yscale('log')\n",
    "# plt.xlabel('classifiers')\n",
    "plt.ylabel(\"training time [second]\")\n",
    "plt.savefig('NN/training_time_10000.png') \n",
    "plt.show()"
   ]
  },
  {
   "cell_type": "code",
   "execution_count": null,
   "metadata": {},
   "outputs": [],
   "source": []
  },
  {
   "cell_type": "code",
   "execution_count": null,
   "metadata": {},
   "outputs": [],
   "source": []
  },
  {
   "cell_type": "markdown",
   "metadata": {},
   "source": [
    "# fitness curve"
   ]
  },
  {
   "cell_type": "code",
   "execution_count": null,
   "metadata": {},
   "outputs": [],
   "source": [
    "numiters = [100,500,1000,2000,5000,10000]\n",
    "train_accu_fit = np.zeros((4,6))\n",
    "train_time_fit = np.zeros((4,6))\n",
    "test_accu_fit = np.zeros((4,6))\n",
    "algorithms = ['gradient_descent','random_hill_climb','simulated_annealing','genetic_alg']"
   ]
  },
  {
   "cell_type": "code",
   "execution_count": null,
   "metadata": {},
   "outputs": [],
   "source": [
    "# gradient_descent\n",
    "for i in range(len(numiters)):\n",
    "    it = numiters[i]\n",
    "    nn = mlrose.NeuralNetwork(hidden_nodes = [20,20,20], # activation = 'relu', \n",
    "                                 algorithm = 'gradient_descent', max_iters = it, \n",
    "                                 learning_rate = 0.001, # bias = True, is_classifier = True, \n",
    "                                 early_stopping = True, clip_max = 5, max_attempts = 100, \n",
    "                                 random_state = my_random_state, curve = True)\n",
    "    \n",
    "    tic = time.perf_counter() \n",
    "    nn.fit(x_train, y_train)\n",
    "    toc = time.perf_counter() \n",
    "    train_time_fit[0][i] = toc - tic\n",
    "    print(f\"training time {toc - tic} seconds\")\n",
    "    \n",
    "    y_train_pred = nn.predict(x_train)\n",
    "    y_train_accuracy = accuracy_score(y_train, y_train_pred)\n",
    "    print(y_train_accuracy)\n",
    "    train_accu_fit[0][i] = y_train_accuracy\n",
    "    \n",
    "    y_test_pred = nn.predict(x_test)\n",
    "    y_test_accuracy = accuracy_score(y_test, y_test_pred)\n",
    "    print(y_test_accuracy)\n",
    "    test_accu_fit[0][i] = y_test_accuracy"
   ]
  },
  {
   "cell_type": "code",
   "execution_count": 147,
   "metadata": {},
   "outputs": [
    {
     "name": "stdout",
     "output_type": "stream",
     "text": [
      "training time 0.5764629999994213 seconds\n",
      "0.26382978723404255\n",
      "0.31683168316831684\n",
      "training time 2.7622357999998712 seconds\n",
      "0.39574468085106385\n",
      "0.49504950495049505\n",
      "training time 5.37989590000052 seconds\n",
      "0.7319148936170212\n",
      "0.801980198019802\n",
      "training time 10.868961999999556 seconds\n",
      "0.8382978723404255\n",
      "0.8613861386138614\n",
      "training time 27.430368700000145 seconds\n",
      "0.9574468085106383\n",
      "0.9207920792079208\n",
      "training time 53.06339630000002 seconds\n",
      "0.9617021276595744\n",
      "0.9207920792079208\n"
     ]
    }
   ],
   "source": [
    "# RHC\n",
    "for i in range(len(numiters)):\n",
    "    it = numiters[i]\n",
    "    nn = mlrose.NeuralNetwork(hidden_nodes = [20,20,20], # activation = 'relu', \n",
    "                                 algorithm = algorithms[1], max_iters = it, \n",
    "                                 restarts = 3,#learning_rate = 0.001, # bias = True, is_classifier = True, \n",
    "                                 early_stopping = True, clip_max = 5, max_attempts = 100, \n",
    "                                 random_state = my_random_state, curve = True)\n",
    "    \n",
    "    tic = time.perf_counter() \n",
    "    nn.fit(x_train, y_train)\n",
    "    toc = time.perf_counter() \n",
    "    train_time_fit[1][i] = toc - tic\n",
    "    print(f\"training time {toc - tic} seconds\")\n",
    "    \n",
    "    y_train_pred = nn.predict(x_train)\n",
    "    y_train_accuracy = accuracy_score(y_train, y_train_pred)\n",
    "    print(y_train_accuracy)\n",
    "    train_accu_fit[1][i] = y_train_accuracy\n",
    "    \n",
    "    y_test_pred = nn.predict(x_test)\n",
    "    y_test_accuracy = accuracy_score(y_test, y_test_pred)\n",
    "    print(y_test_accuracy)\n",
    "    test_accu_fit[1][i] = y_test_accuracy"
   ]
  },
  {
   "cell_type": "code",
   "execution_count": 154,
   "metadata": {},
   "outputs": [
    {
     "name": "stdout",
     "output_type": "stream",
     "text": [
      "training time 0.21174340000106895 seconds\n",
      "0.2297872340425532\n",
      "0.26732673267326734\n",
      "training time 1.1257767000006424 seconds\n",
      "0.12340425531914893\n",
      "0.15841584158415842\n",
      "training time 2.2742057999985263 seconds\n",
      "0.39574468085106385\n",
      "0.4752475247524752\n",
      "training time 4.511489399999846 seconds\n",
      "0.6723404255319149\n",
      "0.7425742574257426\n",
      "training time 10.49516550000044 seconds\n",
      "0.8851063829787233\n",
      "0.9108910891089109\n",
      "training time 21.10903590000089 seconds\n",
      "0.9404255319148936\n",
      "0.9504950495049505\n"
     ]
    }
   ],
   "source": [
    "# SA\n",
    "for i in range(len(numiters)):\n",
    "    it = numiters[i]\n",
    "    nn = mlrose.NeuralNetwork(hidden_nodes = [20,20,20], # activation = 'relu', \n",
    "                                 algorithm = algorithms[2], max_iters = it, \n",
    "                                 #learning_rate = 0.001, # bias = True, is_classifier = True, \n",
    "                                 early_stopping = True, clip_max = 5, max_attempts = 100, \n",
    "                                 random_state = my_random_state, curve = True)\n",
    "    \n",
    "    tic = time.perf_counter() \n",
    "    nn.fit(x_train, y_train)\n",
    "    toc = time.perf_counter() \n",
    "    train_time_fit[2][i] = toc - tic\n",
    "    print(f\"training time {toc - tic} seconds\")\n",
    "    \n",
    "    y_train_pred = nn.predict(x_train)\n",
    "    y_train_accuracy = accuracy_score(y_train, y_train_pred)\n",
    "    print(y_train_accuracy)\n",
    "    train_accu_fit[2][i] = y_train_accuracy\n",
    "    \n",
    "    y_test_pred = nn.predict(x_test)\n",
    "    y_test_accuracy = accuracy_score(y_test, y_test_pred)\n",
    "    print(y_test_accuracy)\n",
    "    test_accu_fit[2][i] = y_test_accuracy"
   ]
  },
  {
   "cell_type": "code",
   "execution_count": 155,
   "metadata": {},
   "outputs": [
    {
     "name": "stdout",
     "output_type": "stream",
     "text": [
      "training time 29.65240300000005 seconds\n",
      "0.7191489361702128\n",
      "0.7425742574257426\n",
      "training time 44.848994899999525 seconds\n",
      "0.7191489361702128\n",
      "0.7425742574257426\n",
      "training time 42.85017719999996 seconds\n",
      "0.7191489361702128\n",
      "0.7425742574257426\n",
      "training time 42.53448750000098 seconds\n",
      "0.7191489361702128\n",
      "0.7425742574257426\n",
      "training time 42.389377699999386 seconds\n",
      "0.7191489361702128\n",
      "0.7425742574257426\n",
      "training time 42.50528149999991 seconds\n",
      "0.7191489361702128\n",
      "0.7425742574257426\n"
     ]
    }
   ],
   "source": [
    "# GA\n",
    "for i in range(len(numiters)):\n",
    "    it = numiters[i]\n",
    "    nn = mlrose.NeuralNetwork(hidden_nodes = [20,20,20], # activation = 'relu', \n",
    "                                 algorithm = algorithms[3], max_iters = it, \n",
    "                                 #learning_rate = 0.001, # bias = True, is_classifier = True, \n",
    "                                 early_stopping = True, clip_max = 5, max_attempts = 100, \n",
    "                                 random_state = my_random_state, curve = True)\n",
    "    \n",
    "    tic = time.perf_counter() \n",
    "    nn.fit(x_train, y_train)\n",
    "    toc = time.perf_counter() \n",
    "    train_time_fit[3][i] = toc - tic\n",
    "    print(f\"training time {toc - tic} seconds\")\n",
    "    \n",
    "    y_train_pred = nn.predict(x_train)\n",
    "    y_train_accuracy = accuracy_score(y_train, y_train_pred)\n",
    "    print(y_train_accuracy)\n",
    "    train_accu_fit[3][i] = y_train_accuracy\n",
    "    \n",
    "    y_test_pred = nn.predict(x_test)\n",
    "    y_test_accuracy = accuracy_score(y_test, y_test_pred)\n",
    "    print(y_test_accuracy)\n",
    "    test_accu_fit[3][i] = y_test_accuracy"
   ]
  },
  {
   "cell_type": "code",
   "execution_count": 156,
   "metadata": {
    "scrolled": true
   },
   "outputs": [
    {
     "data": {
      "text/plain": [
       "(array([[0.93191489, 0.96595745, 0.95744681, 0.9787234 , 1.        ,\n",
       "         1.        ],\n",
       "        [0.26382979, 0.39574468, 0.73191489, 0.83829787, 0.95744681,\n",
       "         0.96170213],\n",
       "        [0.22978723, 0.12340426, 0.39574468, 0.67234043, 0.88510638,\n",
       "         0.94042553],\n",
       "        [0.71914894, 0.71914894, 0.71914894, 0.71914894, 0.71914894,\n",
       "         0.71914894]]),\n",
       " array([[ 0.2817733,  1.4415006,  2.7712845,  5.6940976, 14.3111007,\n",
       "         27.1600265],\n",
       "        [ 0.576463 ,  2.7622358,  5.3798959, 10.868962 , 27.4303687,\n",
       "         53.0633963],\n",
       "        [ 0.2117434,  1.1257767,  2.2742058,  4.5114894, 10.4951655,\n",
       "         21.1090359],\n",
       "        [29.652403 , 44.8489949, 42.8501772, 42.5344875, 42.3893777,\n",
       "         42.5052815]]),\n",
       " array([[0.93069307, 0.93069307, 0.93069307, 0.93069307, 0.92079208,\n",
       "         0.91089109],\n",
       "        [0.31683168, 0.4950495 , 0.8019802 , 0.86138614, 0.92079208,\n",
       "         0.92079208],\n",
       "        [0.26732673, 0.15841584, 0.47524752, 0.74257426, 0.91089109,\n",
       "         0.95049505],\n",
       "        [0.74257426, 0.74257426, 0.74257426, 0.74257426, 0.74257426,\n",
       "         0.74257426]]))"
      ]
     },
     "execution_count": 156,
     "metadata": {},
     "output_type": "execute_result"
    }
   ],
   "source": [
    "    \n",
    "\n",
    "train_accu_fit,train_time_fit,test_accu_fit"
   ]
  },
  {
   "cell_type": "code",
   "execution_count": 157,
   "metadata": {},
   "outputs": [
    {
     "data": {
      "image/png": "[encoded data removed]",
      "text/plain": [
       "<Figure size 432x288 with 1 Axes>"
      ]
     },
     "metadata": {
      "needs_background": "light"
     },
     "output_type": "display_data"
    }
   ],
   "source": [
    "### test accuracy\n",
    "plt.figure()\n",
    "plt.semilogx(numiters, test_accu_fit[0], label = 'GD')\n",
    "plt.semilogx(numiters, test_accu_fit[1], label = 'RHC')\n",
    "plt.semilogx(numiters, test_accu_fit[2], label = 'SA')\n",
    "plt.semilogx(numiters, test_accu_fit[3], label = 'GA')\n",
    "\n",
    "\n",
    "plt.title('Fitness curve for NN - test accuracy')\n",
    "plt.xlabel('max_iter')\n",
    "plt.ylabel(\"accuracy\")\n",
    "plt.legend(loc=\"best\")\n",
    "plt.grid()\n",
    "plt.savefig('NN/fitness_testaccuracy.png')\n",
    "plt.show()"
   ]
  },
  {
   "cell_type": "code",
   "execution_count": 161,
   "metadata": {},
   "outputs": [
    {
     "data": {
      "image/png": "[encoded data removed]",
      "text/plain": [
       "<Figure size 432x288 with 1 Axes>"
      ]
     },
     "metadata": {
      "needs_background": "light"
     },
     "output_type": "display_data"
    }
   ],
   "source": [
    "### train accuracy\n",
    "plt.figure()\n",
    "plt.semilogx(numiters, train_accu_fit[0], label = 'GD')\n",
    "plt.semilogx(numiters, train_accu_fit[1], label = 'RHC')\n",
    "plt.semilogx(numiters, train_accu_fit[2], label = 'SA')\n",
    "plt.semilogx(numiters, train_accu_fit[3], label = 'GA')\n",
    "\n",
    "\n",
    "plt.title('Fitness curve for NN - train accuracy')\n",
    "plt.xlabel('max_iter')\n",
    "plt.ylabel(\"accuracy\")\n",
    "plt.legend(loc=\"best\")\n",
    "plt.grid()\n",
    "plt.savefig('NN/fitness_trainaccuracy.png')\n",
    "plt.show()"
   ]
  },
  {
   "cell_type": "code",
   "execution_count": 159,
   "metadata": {},
   "outputs": [
    {
     "data": {
      "image/png": "[encoded data removed]",
      "text/plain": [
       "<Figure size 432x288 with 1 Axes>"
      ]
     },
     "metadata": {
      "needs_background": "light"
     },
     "output_type": "display_data"
    }
   ],
   "source": [
    "### train time\n",
    "plt.figure()\n",
    "plt.semilogx(numiters, train_time_fit[0], label = 'GD')\n",
    "plt.semilogx(numiters, train_time_fit[1], label = 'RHC')\n",
    "plt.semilogx(numiters, train_time_fit[2], label = 'SA')\n",
    "plt.semilogx(numiters, train_time_fit[3], label = 'GA')\n",
    "\n",
    "\n",
    "plt.title('Fitness curve for NN - training time (log-log scale)')\n",
    "plt.xlabel('max_iter')\n",
    "plt.yscale(\"log\")\n",
    "plt.ylabel(\"time [second]\")\n",
    "plt.legend(loc=\"best\")\n",
    "plt.grid()\n",
    "plt.savefig('NN/fitness_traintime.png')\n",
    "plt.show()"
   ]
  },
  {
   "cell_type": "code",
   "execution_count": null,
   "metadata": {},
   "outputs": [],
   "source": []
  }
 ],
 "metadata": {
  "kernelspec": {
   "display_name": "Python 3",
   "language": "python",
   "name": "python3"
  },
  "language_info": {
   "codemirror_mode": {
    "name": "ipython",
    "version": 3
   },
   "file_extension": ".py",
   "mimetype": "text/x-python",
   "name": "python",
   "nbconvert_exporter": "python",
   "pygments_lexer": "ipython3",
   "version": "3.7.6"
  }
 },
 "nbformat": 4,
 "nbformat_minor": 4
}
